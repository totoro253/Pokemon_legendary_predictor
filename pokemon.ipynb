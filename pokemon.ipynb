{
 "cells": [
  {
   "cell_type": "code",
   "execution_count": 6,
   "metadata": {},
   "outputs": [],
   "source": [
    "import pandas as pd  \n",
    "import numpy as np  \n",
    "df = pd.read_csv('pokemon.csv')\n",
    "df\n",
    "\n",
    "#legendary or not, x is used in the prediction and  y outcome i want to predict\n",
    "X  =  df.drop(columns=['#','Name','Type 1','Type 2','Legendary','Generation'])\n",
    "Y  = df['Legendary']\n",
    "\n",
    "from sklearn.model_selection import train_test_split\n",
    "#splitting the data \n",
    "X_train, X_test, y_train, y_test = train_test_split(X.values,Y.values)\n",
    "\n"
   ]
  }
 ],
 "metadata": {
  "kernelspec": {
   "display_name": "Python 3",
   "language": "python",
   "name": "python3"
  },
  "language_info": {
   "codemirror_mode": {
    "name": "ipython",
    "version": 3
   },
   "file_extension": ".py",
   "mimetype": "text/x-python",
   "name": "python",
   "nbconvert_exporter": "python",
   "pygments_lexer": "ipython3",
   "version": "3.11.4"
  },
  "orig_nbformat": 4
 },
 "nbformat": 4,
 "nbformat_minor": 2
}
