{
 "cells": [
  {
   "cell_type": "code",
   "execution_count": 8,
   "metadata": {},
   "outputs": [
    {
     "name": "stdout",
     "output_type": "stream",
     "text": [
      "Sensitivity: 0.8571428571428571\n",
      "Specificity: 0.9838709677419355\n"
     ]
    },
    {
     "data": {
      "text/plain": [
       "True"
      ]
     },
     "execution_count": 8,
     "metadata": {},
     "output_type": "execute_result"
    }
   ],
   "source": [
    "import pandas as pd  \n",
    "import numpy as np  \n",
    "df = pd.read_csv('pokemon.csv')\n",
    "df\n",
    "\n",
    "#legendary or not, x is used in the prediction and  y outcome i want to predict\n",
    "X  =  df.drop(columns=['#','Name','Type 1','Type 2','Legendary','Generation'])\n",
    "Y  = df['Legendary']\n",
    "\n",
    "from sklearn.model_selection import train_test_split\n",
    "#splitting the data \n",
    "X_train, X_test, y_train, y_test = train_test_split(X.values,Y.values)\n",
    "\n",
    "#random forest  model\n",
    "from sklearn.ensemble  import RandomForestClassifier as RF\n",
    "\n",
    "#Create model\n",
    "clf = RF(bootstrap=True)\n",
    "clf.fit(X_train,y_train)\n",
    "\n",
    "#Assess  on testing data\n",
    "#able to predict correctly whether  a pokemon  was legendary  or not\n",
    "clf.score(X_test,y_test)\n",
    "\n",
    "#confusion matrix\n",
    "#the values that correctly indentify and  those who are not correctly indentify\n",
    "#sensitivity  is how good the model is finding legendarys\n",
    "#specificity is how good the  model is finding the pokemon is not legendary\n",
    "from sklearn.metrics import confusion_matrix\n",
    "y_pred = clf.predict(X_test)\n",
    "tn,fp,fn,tp = confusion_matrix(y_test,y_pred).ravel()\n",
    "# tp means those who are legendary and correctly identify as legendary divided  by  every \n",
    "# pokemon  who is legendary\n",
    "# tn means those who are not legendary identify as not legendary  divided by every single\n",
    "# pokemon who is not legendary\n",
    "print ('Sensitivity:', tp/(tp+fn))\n",
    "print ('Specificity:', tn/(fp+tn))\n",
    "\n",
    "#Conclusion:  The model has good specificity which means  telling a non legendary pokemon is \n",
    "#indeed a non legendary pokemon\n",
    "\n",
    "#cross validation\n",
    "#it splits data into random segments \n",
    "# than it will pick each segment as a testing segment\n",
    "# and use the remainder as training \n",
    "from sklearn.model_selection import cross_val_score\n",
    "#cross validation  score\n",
    "clf2 = RF (bootstrap=True, max_depth=3)\n",
    "cross_val_score(clf2, X,Y, cv=10)\n",
    "\n",
    "#Run a random pokemon and tell if it is legendary or not\n",
    "clf.predict(np.array([[1200,200,300,20,20,300,300]]))[0]\n",
    "\n"
   ]
  },
  {
   "cell_type": "code",
   "execution_count": null,
   "metadata": {},
   "outputs": [],
   "source": []
  }
 ],
 "metadata": {
  "kernelspec": {
   "display_name": "Python 3",
   "language": "python",
   "name": "python3"
  },
  "language_info": {
   "codemirror_mode": {
    "name": "ipython",
    "version": 3
   },
   "file_extension": ".py",
   "mimetype": "text/x-python",
   "name": "python",
   "nbconvert_exporter": "python",
   "pygments_lexer": "ipython3",
   "version": "3.11.4"
  },
  "orig_nbformat": 4
 },
 "nbformat": 4,
 "nbformat_minor": 2
}
