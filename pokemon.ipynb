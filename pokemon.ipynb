{
 "cells": [
  {
   "cell_type": "code",
   "execution_count": 15,
   "metadata": {},
   "outputs": [
    {
     "ename": "TypeError",
     "evalue": "'numpy.int64' object is not callable",
     "output_type": "error",
     "traceback": [
      "\u001b[0;31m---------------------------------------------------------------------------\u001b[0m",
      "\u001b[0;31mTypeError\u001b[0m                                 Traceback (most recent call last)",
      "Cell \u001b[0;32mIn[15], line 28\u001b[0m\n\u001b[1;32m     26\u001b[0m y_pred \u001b[39m=\u001b[39m clf\u001b[39m.\u001b[39mpredict(X_test)\n\u001b[1;32m     27\u001b[0m tn, fp, fn, tp  \u001b[39m=\u001b[39m confusion_matrix(y_test, y_pred)\u001b[39m.\u001b[39mravel()\n\u001b[0;32m---> 28\u001b[0m \u001b[39mprint\u001b[39m (\u001b[39m'\u001b[39m\u001b[39mSensitivity\u001b[39m\u001b[39m'\u001b[39m, tp(tp\u001b[39m+\u001b[39;49mfn))\n",
      "\u001b[0;31mTypeError\u001b[0m: 'numpy.int64' object is not callable"
     ]
    }
   ],
   "source": [
    "import pandas as pd  \n",
    "import numpy as np  \n",
    "df = pd.read_csv('pokemon.csv')\n",
    "df\n",
    "\n",
    "#legendary or not, x is used in the prediction and  y outcome i want to predict\n",
    "X  =  df.drop(columns=['#','Name','Type 1','Type 2','Legendary','Generation'])\n",
    "Y  = df['Legendary']\n",
    "\n",
    "from sklearn.model_selection import train_test_split\n",
    "#splitting the data \n",
    "X_train, X_test, y_train, y_test = train_test_split(X.values,Y.values)\n",
    "\n",
    "#random forest  model\n",
    "from sklearn.ensemble  import RandomForestClassifier as RF\n",
    "#Create model\n",
    "clf = RF(bootstrap=True)\n",
    "clf.fit(X_train,y_train)\n",
    "\n",
    "#Assess  on testing data\n",
    "#able to predict whether  a pokemon  was legendary  or not\n",
    "clf.score(X_test,y_test)\n",
    "\n",
    "#Describing specificity , meaning describing the selected elements are truly negative, simplified: How many pokemons are truly not legendary\n",
    "from sklearn.metrics  import confusion_matrix\n",
    "y_pred = clf.predict(X_test)\n",
    "tn, fp, fn, tp  = confusion_matrix(y_test, y_pred).ravel()\n",
    "print ('Sensitivity', tp(tp+fn))\n",
    "\n"
   ]
  },
  {
   "cell_type": "code",
   "execution_count": null,
   "metadata": {},
   "outputs": [],
   "source": []
  }
 ],
 "metadata": {
  "kernelspec": {
   "display_name": "Python 3",
   "language": "python",
   "name": "python3"
  },
  "language_info": {
   "codemirror_mode": {
    "name": "ipython",
    "version": 3
   },
   "file_extension": ".py",
   "mimetype": "text/x-python",
   "name": "python",
   "nbconvert_exporter": "python",
   "pygments_lexer": "ipython3",
   "version": "3.11.4"
  },
  "orig_nbformat": 4
 },
 "nbformat": 4,
 "nbformat_minor": 2
}
