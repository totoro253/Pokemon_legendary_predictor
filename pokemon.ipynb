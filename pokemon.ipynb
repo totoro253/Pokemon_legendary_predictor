{
 "cells": [
  {
   "cell_type": "code",
   "execution_count": 1,
   "metadata": {},
   "outputs": [
    {
     "data": {
      "text/plain": [
       "0.96"
      ]
     },
     "execution_count": 1,
     "metadata": {},
     "output_type": "execute_result"
    }
   ],
   "source": [
    "import pandas as pd  \n",
    "import numpy as np  \n",
    "df = pd.read_csv('pokemon.csv')\n",
    "df\n",
    "\n",
    "#legendary or not, x is used in the prediction and  y outcome i want to predict\n",
    "X  =  df.drop(columns=['#','Name','Type 1','Type 2','Legendary','Generation'])\n",
    "Y  = df['Legendary']\n",
    "\n",
    "from sklearn.model_selection import train_test_split\n",
    "#splitting the data \n",
    "X_train, X_test, y_train, y_test = train_test_split(X.values,Y.values)\n",
    "\n",
    "#random forest  model\n",
    "from sklearn.ensemble  import RandomForestClassifier as RF\n",
    "\n",
    "#Create model\n",
    "clf = RF(bootstrap=True)\n",
    "clf.fit(X_train,y_train)\n",
    "\n",
    "#Assess  on testing data\n",
    "#able to predict correctly whether  a pokemon  was legendary  or not\n",
    "clf.score(X_test,y_test)\n",
    "\n",
    "#confusion matrix\n",
    "#the values that correctly indentify and  those who are not correctly indentify\n",
    "#sensitivity  is how good the model is finding legendarys\n",
    "#specificity is how good the  model is finding the pokemon is not legendary\n",
    "\n",
    "\n"
   ]
  },
  {
   "cell_type": "code",
   "execution_count": null,
   "metadata": {},
   "outputs": [],
   "source": []
  }
 ],
 "metadata": {
  "kernelspec": {
   "display_name": "Python 3",
   "language": "python",
   "name": "python3"
  },
  "language_info": {
   "codemirror_mode": {
    "name": "ipython",
    "version": 3
   },
   "file_extension": ".py",
   "mimetype": "text/x-python",
   "name": "python",
   "nbconvert_exporter": "python",
   "pygments_lexer": "ipython3",
   "version": "3.11.4"
  },
  "orig_nbformat": 4
 },
 "nbformat": 4,
 "nbformat_minor": 2
}
