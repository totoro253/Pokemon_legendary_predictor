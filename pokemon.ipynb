{
 "cells": [
  {
   "cell_type": "code",
   "execution_count": 10,
   "metadata": {},
   "outputs": [
    {
     "ename": "TypeError",
     "evalue": "ForestClassifier.predict() missing 1 required positional argument: 'X'",
     "output_type": "error",
     "traceback": [
      "\u001b[0;31m---------------------------------------------------------------------------\u001b[0m",
      "\u001b[0;31mTypeError\u001b[0m                                 Traceback (most recent call last)",
      "Cell \u001b[0;32mIn[10], line 27\u001b[0m\n\u001b[1;32m     24\u001b[0m \u001b[39m#specifying how bad the model is in predicting  whether it is a legendary pokemon or not\u001b[39;00m\n\u001b[1;32m     25\u001b[0m \u001b[39m#Describing specificity , meaning describing the selected elements are truly negative?\u001b[39;00m\n\u001b[1;32m     26\u001b[0m \u001b[39mfrom\u001b[39;00m \u001b[39msklearn\u001b[39;00m\u001b[39m.\u001b[39;00m\u001b[39mmetrics\u001b[39;00m  \u001b[39mimport\u001b[39;00m confusion_matrix\n\u001b[0;32m---> 27\u001b[0m y_pred \u001b[39m=\u001b[39m clf\u001b[39m.\u001b[39;49mpredict()\n",
      "\u001b[0;31mTypeError\u001b[0m: ForestClassifier.predict() missing 1 required positional argument: 'X'"
     ]
    }
   ],
   "source": [
    "import pandas as pd  \n",
    "import numpy as np  \n",
    "df = pd.read_csv('pokemon.csv')\n",
    "df\n",
    "\n",
    "#legendary or not, x is used in the prediction and  y outcome i want to predict\n",
    "X  =  df.drop(columns=['#','Name','Type 1','Type 2','Legendary','Generation'])\n",
    "Y  = df['Legendary']\n",
    "\n",
    "from sklearn.model_selection import train_test_split\n",
    "#splitting the data \n",
    "X_train, X_test, y_train, y_test = train_test_split(X.values,Y.values)\n",
    "\n",
    "#random forest  model\n",
    "from sklearn.ensemble  import RandomForestClassifier as RF\n",
    "#Create model\n",
    "clf = RF(bootstrap=True)\n",
    "clf.fit(X_train,y_train)\n",
    "\n",
    "#Assess  on testing data\n",
    "#able to predict whether  a pokemon  was legendary  or not\n",
    "clf.score(X_test,y_test)\n",
    "\n",
    "#specifying how bad the model is in predicting  whether it is a legendary pokemon or not\n",
    "#Describing specificity , meaning describing the selected elements are truly negative, simplified: How many pokemons are truly not legendary\n",
    "from sklearn.metrics  import confusion_matrix\n",
    "y_pred = clf.predict()\n",
    "\n"
   ]
  },
  {
   "cell_type": "code",
   "execution_count": null,
   "metadata": {},
   "outputs": [],
   "source": []
  }
 ],
 "metadata": {
  "kernelspec": {
   "display_name": "Python 3",
   "language": "python",
   "name": "python3"
  },
  "language_info": {
   "codemirror_mode": {
    "name": "ipython",
    "version": 3
   },
   "file_extension": ".py",
   "mimetype": "text/x-python",
   "name": "python",
   "nbconvert_exporter": "python",
   "pygments_lexer": "ipython3",
   "version": "3.11.4"
  },
  "orig_nbformat": 4
 },
 "nbformat": 4,
 "nbformat_minor": 2
}
